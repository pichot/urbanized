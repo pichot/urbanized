{
 "cells": [
  {
   "cell_type": "code",
   "execution_count": 7,
   "metadata": {},
   "outputs": [
    {
     "name": "stdout",
     "output_type": "stream",
     "text": [
      "The sql extension is already loaded. To reload it, use:\n",
      "  %reload_ext sql\n"
     ]
    }
   ],
   "source": [
    "import duckdb\n",
    "\n",
    "%load_ext sql\n",
    "conn = duckdb.connect()\n",
    "%sql conn --alias duckdb"
   ]
  },
  {
   "cell_type": "code",
   "execution_count": 8,
   "metadata": {},
   "outputs": [
    {
     "data": {
      "text/html": [
       "<span style=\"None\">Running query in &#x27;duckdb&#x27;</span>"
      ],
      "text/plain": [
       "Running query in 'duckdb'"
      ]
     },
     "metadata": {},
     "output_type": "display_data"
    },
    {
     "data": {
      "text/html": [
       "<table>\n",
       "    <thead>\n",
       "        <tr>\n",
       "            <th>Success</th>\n",
       "        </tr>\n",
       "    </thead>\n",
       "    <tbody>\n",
       "    </tbody>\n",
       "</table>"
      ],
      "text/plain": [
       "+---------+\n",
       "| Success |\n",
       "+---------+\n",
       "+---------+"
      ]
     },
     "execution_count": 8,
     "metadata": {},
     "output_type": "execute_result"
    }
   ],
   "source": [
    "%%sql \n",
    "INSTALL spatial;\n",
    "LOAD spatial;\n",
    "INSTALL h3 FROM community;\n",
    "LOAD h3;\n",
    "INSTALL postgres;\n",
    "LOAD postgres;\n",
    "INSTALL sqlite;\n",
    "LOAD sqlite;\n"
   ]
  },
  {
   "cell_type": "markdown",
   "metadata": {},
   "source": [
    "- Need the Postgres.app to be running here"
   ]
  },
  {
   "cell_type": "code",
   "execution_count": 9,
   "metadata": {
    "vscode": {
     "languageId": "sql"
    }
   },
   "outputs": [
    {
     "data": {
      "text/html": [
       "<span style=\"None\">Running query in &#x27;duckdb&#x27;</span>"
      ],
      "text/plain": [
       "Running query in 'duckdb'"
      ]
     },
     "metadata": {},
     "output_type": "display_data"
    },
    {
     "data": {
      "text/html": [
       "<table>\n",
       "    <thead>\n",
       "        <tr>\n",
       "            <th>Count</th>\n",
       "        </tr>\n",
       "    </thead>\n",
       "    <tbody>\n",
       "        <tr>\n",
       "            <td>2000</td>\n",
       "        </tr>\n",
       "    </tbody>\n",
       "</table>"
      ],
      "text/plain": [
       "+-------+\n",
       "| Count |\n",
       "+-------+\n",
       "|  2000 |\n",
       "+-------+"
      ]
     },
     "execution_count": 9,
     "metadata": {},
     "output_type": "execute_result"
    }
   ],
   "source": [
    "%%sql\n",
    "CREATE OR REPLACE TABLE cities AS\n",
    "SELECT id as efua_id, name, fua_pop, cnt_iso FROM postgres_scan('host=localhost port=5432 user=jonathan dbname=territoires.fyi', 'dbt_urbanized_fyi', 'cities');"
   ]
  },
  {
   "cell_type": "code",
   "execution_count": 10,
   "metadata": {},
   "outputs": [
    {
     "data": {
      "text/html": [
       "<span style=\"None\">Running query in &#x27;duckdb&#x27;</span>"
      ],
      "text/plain": [
       "Running query in 'duckdb'"
      ]
     },
     "metadata": {},
     "output_type": "display_data"
    },
    {
     "data": {
      "text/html": [
       "<table>\n",
       "    <thead>\n",
       "        <tr>\n",
       "            <th>efua_id</th>\n",
       "            <th>name</th>\n",
       "            <th>fua_pop</th>\n",
       "            <th>cnt_iso</th>\n",
       "        </tr>\n",
       "    </thead>\n",
       "    <tbody>\n",
       "        <tr>\n",
       "            <td>9725</td>\n",
       "            <td>Guangzhou</td>\n",
       "            <td>45640589</td>\n",
       "            <td>['CHN']</td>\n",
       "        </tr>\n",
       "        <tr>\n",
       "            <td>4900</td>\n",
       "            <td>Jakarta</td>\n",
       "            <td>39808169</td>\n",
       "            <td>['IDN']</td>\n",
       "        </tr>\n",
       "        <tr>\n",
       "            <td>5129</td>\n",
       "            <td>Tokyo</td>\n",
       "            <td>36471787</td>\n",
       "            <td>['JPN']</td>\n",
       "        </tr>\n",
       "        <tr>\n",
       "            <td>7466</td>\n",
       "            <td>Delhi [New Delhi]</td>\n",
       "            <td>30076708</td>\n",
       "            <td>['IND']</td>\n",
       "        </tr>\n",
       "        <tr>\n",
       "            <td>10097</td>\n",
       "            <td>Shanghai</td>\n",
       "            <td>26920218</td>\n",
       "            <td>['CHN']</td>\n",
       "        </tr>\n",
       "    </tbody>\n",
       "</table>"
      ],
      "text/plain": [
       "+---------+-------------------+----------+---------+\n",
       "| efua_id |        name       | fua_pop  | cnt_iso |\n",
       "+---------+-------------------+----------+---------+\n",
       "|   9725  |     Guangzhou     | 45640589 | ['CHN'] |\n",
       "|   4900  |      Jakarta      | 39808169 | ['IDN'] |\n",
       "|   5129  |       Tokyo       | 36471787 | ['JPN'] |\n",
       "|   7466  | Delhi [New Delhi] | 30076708 | ['IND'] |\n",
       "|  10097  |      Shanghai     | 26920218 | ['CHN'] |\n",
       "+---------+-------------------+----------+---------+"
      ]
     },
     "execution_count": 10,
     "metadata": {},
     "output_type": "execute_result"
    }
   ],
   "source": [
    "%sql SELECT * FROM cities LIMIT 5;"
   ]
  },
  {
   "cell_type": "code",
   "execution_count": 11,
   "metadata": {},
   "outputs": [
    {
     "data": {
      "text/html": [
       "<span style=\"None\">Running query in &#x27;duckdb&#x27;</span>"
      ],
      "text/plain": [
       "Running query in 'duckdb'"
      ]
     },
     "metadata": {},
     "output_type": "display_data"
    },
    {
     "data": {
      "text/html": [
       "<table>\n",
       "    <thead>\n",
       "        <tr>\n",
       "            <th>Count</th>\n",
       "        </tr>\n",
       "    </thead>\n",
       "    <tbody>\n",
       "        <tr>\n",
       "            <td>3601676</td>\n",
       "        </tr>\n",
       "    </tbody>\n",
       "</table>"
      ],
      "text/plain": [
       "+---------+\n",
       "|  Count  |\n",
       "+---------+\n",
       "| 3601676 |\n",
       "+---------+"
      ]
     },
     "execution_count": 11,
     "metadata": {},
     "output_type": "execute_result"
    }
   ],
   "source": [
    "%%sql\n",
    "CREATE OR REPLACE TABLE \n",
    "h3_efua_pop AS\n",
    "SELECT * FROM postgres_scan('host=localhost port=5432 user=jonathan dbname=territoires.fyi', 'dbt_urbanized_fyi', 'efua_h3_pop');"
   ]
  },
  {
   "cell_type": "code",
   "execution_count": 12,
   "metadata": {},
   "outputs": [
    {
     "data": {
      "text/html": [
       "<span style=\"None\">Running query in &#x27;duckdb&#x27;</span>"
      ],
      "text/plain": [
       "Running query in 'duckdb'"
      ]
     },
     "metadata": {},
     "output_type": "display_data"
    },
    {
     "data": {
      "text/html": [
       "<table>\n",
       "    <thead>\n",
       "        <tr>\n",
       "            <th>Count</th>\n",
       "        </tr>\n",
       "    </thead>\n",
       "    <tbody>\n",
       "        <tr>\n",
       "            <td>32957699</td>\n",
       "        </tr>\n",
       "    </tbody>\n",
       "</table>"
      ],
      "text/plain": [
       "+----------+\n",
       "|  Count   |\n",
       "+----------+\n",
       "| 32957699 |\n",
       "+----------+"
      ]
     },
     "execution_count": 12,
     "metadata": {},
     "output_type": "execute_result"
    }
   ],
   "source": [
    "%%sql\n",
    "CREATE OR REPLACE TABLE \n",
    "source_kontur AS\n",
    "SELECT h3, population FROM ST_Read('../_input/kontur.gpkg');\n"
   ]
  },
  {
   "cell_type": "code",
   "execution_count": 13,
   "metadata": {},
   "outputs": [
    {
     "data": {
      "text/html": [
       "<span style=\"None\">Running query in &#x27;duckdb&#x27;</span>"
      ],
      "text/plain": [
       "Running query in 'duckdb'"
      ]
     },
     "metadata": {},
     "output_type": "display_data"
    },
    {
     "data": {
      "text/html": [
       "<table>\n",
       "    <thead>\n",
       "        <tr>\n",
       "            <th>Count</th>\n",
       "        </tr>\n",
       "    </thead>\n",
       "    <tbody>\n",
       "        <tr>\n",
       "            <td>3086206</td>\n",
       "        </tr>\n",
       "    </tbody>\n",
       "</table>"
      ],
      "text/plain": [
       "+---------+\n",
       "|  Count  |\n",
       "+---------+\n",
       "| 3086206 |\n",
       "+---------+"
      ]
     },
     "execution_count": 13,
     "metadata": {},
     "output_type": "execute_result"
    }
   ],
   "source": [
    "%%sql\n",
    "CREATE OR REPLACE TABLE h3_efua_pop AS\n",
    "SELECT h3_efua_pop.h3, h3_efua_pop.efua_id, source_kontur.population \n",
    "FROM h3_efua_pop \n",
    "JOIN source_kontur ON h3_efua_pop.h3 = source_kontur.h3;"
   ]
  },
  {
   "cell_type": "code",
   "execution_count": 14,
   "metadata": {
    "vscode": {
     "languageId": "sql"
    }
   },
   "outputs": [
    {
     "data": {
      "text/html": [
       "<span style=\"None\">Running query in &#x27;duckdb&#x27;</span>"
      ],
      "text/plain": [
       "Running query in 'duckdb'"
      ]
     },
     "metadata": {},
     "output_type": "display_data"
    },
    {
     "data": {
      "text/html": [
       "<table>\n",
       "    <thead>\n",
       "        <tr>\n",
       "            <th>Count</th>\n",
       "        </tr>\n",
       "    </thead>\n",
       "    <tbody>\n",
       "        <tr>\n",
       "            <td>2000</td>\n",
       "        </tr>\n",
       "    </tbody>\n",
       "</table>"
      ],
      "text/plain": [
       "+-------+\n",
       "| Count |\n",
       "+-------+\n",
       "|  2000 |\n",
       "+-------+"
      ]
     },
     "execution_count": 14,
     "metadata": {},
     "output_type": "execute_result"
    }
   ],
   "source": [
    "%%sql\n",
    "CREATE OR REPLACE TABLE cities AS\n",
    "SELECT cities.*, kontur_population.kontur_population AS kontur_population\n",
    "FROM cities\n",
    "JOIN (\n",
    "  SELECT cities.efua_id, SUM(h3_efua_pop.population) AS kontur_population\n",
    "  FROM cities\n",
    "  JOIN h3_efua_pop ON cities.efua_id = h3_efua_pop.efua_id\n",
    "  GROUP BY cities.efua_id\n",
    ") AS kontur_population\n",
    "ON cities.efua_id = kontur_population.efua_id;"
   ]
  },
  {
   "cell_type": "code",
   "execution_count": 15,
   "metadata": {
    "vscode": {
     "languageId": "sql"
    }
   },
   "outputs": [
    {
     "data": {
      "text/html": [
       "<span style=\"None\">Running query in &#x27;duckdb&#x27;</span>"
      ],
      "text/plain": [
       "Running query in 'duckdb'"
      ]
     },
     "metadata": {},
     "output_type": "display_data"
    },
    {
     "data": {
      "text/html": [
       "<table>\n",
       "    <thead>\n",
       "        <tr>\n",
       "            <th>efua_id</th>\n",
       "            <th>name</th>\n",
       "            <th>cnt_iso</th>\n",
       "            <th>fua_pop</th>\n",
       "            <th>kontur_pop</th>\n",
       "        </tr>\n",
       "    </thead>\n",
       "    <tbody>\n",
       "        <tr>\n",
       "            <td>8353</td>\n",
       "            <td>Jhansi</td>\n",
       "            <td>['IND']</td>\n",
       "            <td>698987</td>\n",
       "            <td>467864</td>\n",
       "        </tr>\n",
       "        <tr>\n",
       "            <td>8407</td>\n",
       "            <td>Lalitpur</td>\n",
       "            <td>['IND']</td>\n",
       "            <td>481590</td>\n",
       "            <td>127850</td>\n",
       "        </tr>\n",
       "        <tr>\n",
       "            <td>8303</td>\n",
       "            <td>Datia</td>\n",
       "            <td>['IND']</td>\n",
       "            <td>358537</td>\n",
       "            <td>118807</td>\n",
       "        </tr>\n",
       "        <tr>\n",
       "            <td>6677</td>\n",
       "            <td>Shakar Garh</td>\n",
       "            <td>['PAK']</td>\n",
       "            <td>387206</td>\n",
       "            <td>175949</td>\n",
       "        </tr>\n",
       "        <tr>\n",
       "            <td>9684</td>\n",
       "            <td>Mau</td>\n",
       "            <td>['IND']</td>\n",
       "            <td>718010</td>\n",
       "            <td>289778</td>\n",
       "        </tr>\n",
       "    </tbody>\n",
       "</table>"
      ],
      "text/plain": [
       "+---------+-------------+---------+---------+------------+\n",
       "| efua_id |     name    | cnt_iso | fua_pop | kontur_pop |\n",
       "+---------+-------------+---------+---------+------------+\n",
       "|   8353  |    Jhansi   | ['IND'] |  698987 |   467864   |\n",
       "|   8407  |   Lalitpur  | ['IND'] |  481590 |   127850   |\n",
       "|   8303  |    Datia    | ['IND'] |  358537 |   118807   |\n",
       "|   6677  | Shakar Garh | ['PAK'] |  387206 |   175949   |\n",
       "|   9684  |     Mau     | ['IND'] |  718010 |   289778   |\n",
       "+---------+-------------+---------+---------+------------+"
      ]
     },
     "execution_count": 15,
     "metadata": {},
     "output_type": "execute_result"
    }
   ],
   "source": [
    "%%sql\n",
    "SELECT \n",
    "  efua_id,\n",
    "  name,\n",
    "  cnt_iso,\n",
    "  CAST(fua_pop AS INTEGER) as fua_pop,\n",
    "  CAST(kontur_population AS INTEGER) as kontur_pop\n",
    "FROM cities LIMIT 5;"
   ]
  },
  {
   "cell_type": "code",
   "execution_count": 16,
   "metadata": {},
   "outputs": [
    {
     "data": {
      "text/html": [
       "<span style=\"None\">Running query in &#x27;duckdb&#x27;</span>"
      ],
      "text/plain": [
       "Running query in 'duckdb'"
      ]
     },
     "metadata": {},
     "output_type": "display_data"
    },
    {
     "data": {
      "text/html": [
       "<table>\n",
       "    <thead>\n",
       "        <tr>\n",
       "            <th>Count</th>\n",
       "        </tr>\n",
       "    </thead>\n",
       "    <tbody>\n",
       "        <tr>\n",
       "            <td>3086206</td>\n",
       "        </tr>\n",
       "    </tbody>\n",
       "</table>"
      ],
      "text/plain": [
       "+---------+\n",
       "|  Count  |\n",
       "+---------+\n",
       "| 3086206 |\n",
       "+---------+"
      ]
     },
     "execution_count": 16,
     "metadata": {},
     "output_type": "execute_result"
    }
   ],
   "source": [
    "%%sql\n",
    "COPY (\n",
    "  SELECT \n",
    "    efua_id,\n",
    "    name,\n",
    "    cnt_iso,\n",
    "    CAST(fua_pop AS INTEGER) as fua_pop,\n",
    "    CAST(kontur_population AS INTEGER) as kontur_pop\n",
    "  FROM cities\n",
    ") TO '../_output/notebooks/cities.csv' (HEADER, DELIMITER ',');\n",
    "COPY (\n",
    "  SELECT\n",
    "    h3,\n",
    "    efua_id,\n",
    "    CAST(population AS INTEGER) as population\n",
    "  FROM h3_efua_pop\n",
    ") TO '../_output/notebooks/cities_h3_pop.csv' (HEADER, DELIMITER ',');"
   ]
  },
  {
   "cell_type": "code",
   "execution_count": 19,
   "metadata": {},
   "outputs": [
    {
     "data": {
      "text/html": [
       "<span style=\"None\">Running query in &#x27;duckdb&#x27;</span>"
      ],
      "text/plain": [
       "Running query in 'duckdb'"
      ]
     },
     "metadata": {},
     "output_type": "display_data"
    },
    {
     "data": {
      "text/html": [
       "<table>\n",
       "    <thead>\n",
       "        <tr>\n",
       "            <th>Count</th>\n",
       "        </tr>\n",
       "    </thead>\n",
       "    <tbody>\n",
       "        <tr>\n",
       "            <td>3086206</td>\n",
       "        </tr>\n",
       "    </tbody>\n",
       "</table>"
      ],
      "text/plain": [
       "+---------+\n",
       "|  Count  |\n",
       "+---------+\n",
       "| 3086206 |\n",
       "+---------+"
      ]
     },
     "execution_count": 19,
     "metadata": {},
     "output_type": "execute_result"
    }
   ],
   "source": [
    "%%sql\n",
    "# ATTACH '../_output/notebooks/cities.db' AS sqlite_db (TYPE SQLITE);\n",
    "CREATE TABLE sqlite_db.cities AS (\n",
    "    SELECT \n",
    "    efua_id,\n",
    "    name,\n",
    "    cnt_iso,\n",
    "    CAST(fua_pop AS INTEGER) as fua_pop,\n",
    "    CAST(kontur_population AS INTEGER) as kontur_pop\n",
    "  FROM cities\n",
    ");\n",
    "CREATE TABLE sqlite_db.cities_h3_pop AS (\n",
    "    SELECT\n",
    "    h3,\n",
    "    efua_id,\n",
    "    CAST(population AS INTEGER) as population\n",
    "  FROM h3_efua_pop\n",
    ");"
   ]
  },
  {
   "cell_type": "markdown",
   "metadata": {},
   "source": [
    "## Notes\n",
    "- The sqlite dump above will have a few lines that Cloudflare D1 does not like\n",
    "\n",
    "At the top:\n",
    "- `PRAGMA foreign_keys=OFF;`\n",
    "- `BEGIN TRANSACTION;`\n",
    "\n",
    "And at the bottom:\n",
    "- `COMMIT;`"
   ]
  },
  {
   "cell_type": "code",
   "execution_count": 20,
   "metadata": {
    "vscode": {
     "languageId": "shellscript"
    }
   },
   "outputs": [
    {
     "name": "stdout",
     "output_type": "stream",
     "text": [
      "cities.ipynb\n"
     ]
    }
   ],
   "source": [
    "%%bash\n",
    "pnpx wrangler d1 execute urbanized --remote --file .data/_source/cities.sql"
   ]
  }
 ],
 "metadata": {
  "kernelspec": {
   "display_name": "dbt-urbanized",
   "language": "python",
   "name": "python3"
  },
  "language_info": {
   "codemirror_mode": {
    "name": "ipython",
    "version": 3
   },
   "file_extension": ".py",
   "mimetype": "text/x-python",
   "name": "python",
   "nbconvert_exporter": "python",
   "pygments_lexer": "ipython3",
   "version": "3.12.4"
  }
 },
 "nbformat": 4,
 "nbformat_minor": 2
}
