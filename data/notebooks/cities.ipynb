{
 "cells": [
  {
   "cell_type": "code",
   "execution_count": 1,
   "metadata": {},
   "outputs": [
    {
     "name": "stdout",
     "output_type": "stream",
     "text": [
      "Deploy FastAPI apps for free on Ploomber Cloud! Learn more: https://ploomber.io/s/signup\n"
     ]
    }
   ],
   "source": [
    "import duckdb\n",
    "import pandas as pd\n",
    "\n",
    "%load_ext sql\n",
    "conn = duckdb.connect()\n",
    "%sql conn --alias duckdb"
   ]
  },
  {
   "cell_type": "code",
   "execution_count": 5,
   "metadata": {},
   "outputs": [
    {
     "data": {
      "text/html": [
       "<span style=\"None\">Running query in &#x27;duckdb&#x27;</span>"
      ],
      "text/plain": [
       "Running query in 'duckdb'"
      ]
     },
     "metadata": {},
     "output_type": "display_data"
    },
    {
     "data": {
      "text/html": [
       "<table>\n",
       "    <thead>\n",
       "        <tr>\n",
       "            <th>Success</th>\n",
       "        </tr>\n",
       "    </thead>\n",
       "    <tbody>\n",
       "    </tbody>\n",
       "</table>"
      ],
      "text/plain": [
       "+---------+\n",
       "| Success |\n",
       "+---------+\n",
       "+---------+"
      ]
     },
     "execution_count": 5,
     "metadata": {},
     "output_type": "execute_result"
    }
   ],
   "source": [
    "%%sql \n",
    "INSTALL spatial;\n",
    "LOAD spatial;\n",
    "INSTALL h3 FROM community;\n",
    "LOAD h3;\n",
    "INSTALL postgres;\n",
    "LOAD postgres;\n"
   ]
  },
  {
   "cell_type": "code",
   "execution_count": 3,
   "metadata": {},
   "outputs": [
    {
     "data": {
      "text/html": [
       "<span style=\"None\">Running query in &#x27;duckdb&#x27;</span>"
      ],
      "text/plain": [
       "Running query in 'duckdb'"
      ]
     },
     "metadata": {},
     "output_type": "display_data"
    },
    {
     "data": {
      "text/html": [
       "<table>\n",
       "    <thead>\n",
       "        <tr>\n",
       "            <th>Count</th>\n",
       "        </tr>\n",
       "    </thead>\n",
       "    <tbody>\n",
       "        <tr>\n",
       "            <td>9031</td>\n",
       "        </tr>\n",
       "    </tbody>\n",
       "</table>"
      ],
      "text/plain": [
       "+-------+\n",
       "| Count |\n",
       "+-------+\n",
       "|  9031 |\n",
       "+-------+"
      ]
     },
     "execution_count": 3,
     "metadata": {},
     "output_type": "execute_result"
    }
   ],
   "source": [
    "%sql CREATE TABLE source_fua AS SELECT * FROM ST_Read('../_source/fua.gpkg');"
   ]
  },
  {
   "cell_type": "code",
   "execution_count": 36,
   "metadata": {},
   "outputs": [
    {
     "data": {
      "text/html": [
       "<span style=\"None\">Running query in &#x27;duckdb&#x27;</span>"
      ],
      "text/plain": [
       "Running query in 'duckdb'"
      ]
     },
     "metadata": {},
     "output_type": "display_data"
    },
    {
     "data": {
      "text/html": [
       "<table>\n",
       "    <thead>\n",
       "        <tr>\n",
       "            <th>Count</th>\n",
       "        </tr>\n",
       "    </thead>\n",
       "    <tbody>\n",
       "        <tr>\n",
       "            <td>2000</td>\n",
       "        </tr>\n",
       "    </tbody>\n",
       "</table>"
      ],
      "text/plain": [
       "+-------+\n",
       "| Count |\n",
       "+-------+\n",
       "|  2000 |\n",
       "+-------+"
      ]
     },
     "execution_count": 36,
     "metadata": {},
     "output_type": "execute_result"
    }
   ],
   "source": [
    "%%sql\n",
    "CREATE OR REPLACE TABLE cities AS\n",
    "SELECT id as efua_id, name, fua_pop, cnt_iso FROM postgres_scan('host=localhost port=5432 user=jonathan dbname=territoires.fyi', 'dbt_urbanized_fyi', 'cities');"
   ]
  },
  {
   "cell_type": "code",
   "execution_count": 18,
   "metadata": {},
   "outputs": [
    {
     "data": {
      "text/html": [
       "<span style=\"None\">Running query in &#x27;duckdb&#x27;</span>"
      ],
      "text/plain": [
       "Running query in 'duckdb'"
      ]
     },
     "metadata": {},
     "output_type": "display_data"
    },
    {
     "data": {
      "text/html": [
       "<table>\n",
       "    <thead>\n",
       "        <tr>\n",
       "            <th>efua_id</th>\n",
       "            <th>name</th>\n",
       "            <th>fua_pop</th>\n",
       "            <th>cnt_iso</th>\n",
       "        </tr>\n",
       "    </thead>\n",
       "    <tbody>\n",
       "        <tr>\n",
       "            <td>9725</td>\n",
       "            <td>Guangzhou</td>\n",
       "            <td>45640589</td>\n",
       "            <td>['CHN']</td>\n",
       "        </tr>\n",
       "        <tr>\n",
       "            <td>4900</td>\n",
       "            <td>Jakarta</td>\n",
       "            <td>39808169</td>\n",
       "            <td>['IDN']</td>\n",
       "        </tr>\n",
       "        <tr>\n",
       "            <td>5129</td>\n",
       "            <td>Tokyo</td>\n",
       "            <td>36471787</td>\n",
       "            <td>['JPN']</td>\n",
       "        </tr>\n",
       "        <tr>\n",
       "            <td>7466</td>\n",
       "            <td>Delhi [New Delhi]</td>\n",
       "            <td>30076708</td>\n",
       "            <td>['IND']</td>\n",
       "        </tr>\n",
       "        <tr>\n",
       "            <td>10097</td>\n",
       "            <td>Shanghai</td>\n",
       "            <td>26920218</td>\n",
       "            <td>['CHN']</td>\n",
       "        </tr>\n",
       "    </tbody>\n",
       "</table>"
      ],
      "text/plain": [
       "+---------+-------------------+----------+---------+\n",
       "| efua_id |        name       | fua_pop  | cnt_iso |\n",
       "+---------+-------------------+----------+---------+\n",
       "|   9725  |     Guangzhou     | 45640589 | ['CHN'] |\n",
       "|   4900  |      Jakarta      | 39808169 | ['IDN'] |\n",
       "|   5129  |       Tokyo       | 36471787 | ['JPN'] |\n",
       "|   7466  | Delhi [New Delhi] | 30076708 | ['IND'] |\n",
       "|  10097  |      Shanghai     | 26920218 | ['CHN'] |\n",
       "+---------+-------------------+----------+---------+"
      ]
     },
     "execution_count": 18,
     "metadata": {},
     "output_type": "execute_result"
    }
   ],
   "source": [
    "%sql SELECT * FROM cities LIMIT 5;"
   ]
  },
  {
   "cell_type": "code",
   "execution_count": 19,
   "metadata": {},
   "outputs": [
    {
     "data": {
      "text/html": [
       "<span style=\"None\">Running query in &#x27;duckdb&#x27;</span>"
      ],
      "text/plain": [
       "Running query in 'duckdb'"
      ]
     },
     "metadata": {},
     "output_type": "display_data"
    },
    {
     "data": {
      "text/html": [
       "<table>\n",
       "    <thead>\n",
       "        <tr>\n",
       "            <th>Count</th>\n",
       "        </tr>\n",
       "    </thead>\n",
       "    <tbody>\n",
       "        <tr>\n",
       "            <td>3601676</td>\n",
       "        </tr>\n",
       "    </tbody>\n",
       "</table>"
      ],
      "text/plain": [
       "+---------+\n",
       "|  Count  |\n",
       "+---------+\n",
       "| 3601676 |\n",
       "+---------+"
      ]
     },
     "execution_count": 19,
     "metadata": {},
     "output_type": "execute_result"
    }
   ],
   "source": [
    "%%sql\n",
    "CREATE OR REPLACE TABLE \n",
    "h3_efua_pop AS\n",
    "SELECT * FROM postgres_scan('host=localhost port=5432 user=jonathan dbname=territoires.fyi', 'dbt_urbanized_fyi', 'efua_h3_pop');"
   ]
  },
  {
   "cell_type": "code",
   "execution_count": 23,
   "metadata": {},
   "outputs": [
    {
     "data": {
      "text/html": [
       "<span style=\"None\">Running query in &#x27;duckdb&#x27;</span>"
      ],
      "text/plain": [
       "Running query in 'duckdb'"
      ]
     },
     "metadata": {},
     "output_type": "display_data"
    },
    {
     "data": {
      "text/html": [
       "<table>\n",
       "    <thead>\n",
       "        <tr>\n",
       "            <th>Count</th>\n",
       "        </tr>\n",
       "    </thead>\n",
       "    <tbody>\n",
       "        <tr>\n",
       "            <td>32957699</td>\n",
       "        </tr>\n",
       "    </tbody>\n",
       "</table>"
      ],
      "text/plain": [
       "+----------+\n",
       "|  Count   |\n",
       "+----------+\n",
       "| 32957699 |\n",
       "+----------+"
      ]
     },
     "execution_count": 23,
     "metadata": {},
     "output_type": "execute_result"
    }
   ],
   "source": [
    "%%sql\n",
    "CREATE OR REPLACE TABLE \n",
    "source_kontur AS\n",
    "SELECT h3, population FROM ST_Read('../_source/kontur.gpkg');\n"
   ]
  },
  {
   "cell_type": "code",
   "execution_count": 27,
   "metadata": {},
   "outputs": [
    {
     "data": {
      "text/html": [
       "<span style=\"None\">Running query in &#x27;duckdb&#x27;</span>"
      ],
      "text/plain": [
       "Running query in 'duckdb'"
      ]
     },
     "metadata": {},
     "output_type": "display_data"
    },
    {
     "data": {
      "text/html": [
       "<table>\n",
       "    <thead>\n",
       "        <tr>\n",
       "            <th>Count</th>\n",
       "        </tr>\n",
       "    </thead>\n",
       "    <tbody>\n",
       "        <tr>\n",
       "            <td>3086206</td>\n",
       "        </tr>\n",
       "    </tbody>\n",
       "</table>"
      ],
      "text/plain": [
       "+---------+\n",
       "|  Count  |\n",
       "+---------+\n",
       "| 3086206 |\n",
       "+---------+"
      ]
     },
     "execution_count": 27,
     "metadata": {},
     "output_type": "execute_result"
    }
   ],
   "source": [
    "%%sql\n",
    "CREATE OR REPLACE TABLE h3_efua_pop AS\n",
    "SELECT h3_efua_pop.h3, h3_efua_pop.efua_id, source_kontur.population \n",
    "FROM h3_efua_pop \n",
    "JOIN source_kontur ON h3_efua_pop.h3 = source_kontur.h3;"
   ]
  },
  {
   "cell_type": "code",
   "execution_count": 37,
   "metadata": {
    "vscode": {
     "languageId": "sql"
    }
   },
   "outputs": [
    {
     "data": {
      "text/html": [
       "<span style=\"None\">Running query in &#x27;duckdb&#x27;</span>"
      ],
      "text/plain": [
       "Running query in 'duckdb'"
      ]
     },
     "metadata": {},
     "output_type": "display_data"
    },
    {
     "data": {
      "text/html": [
       "<table>\n",
       "    <thead>\n",
       "        <tr>\n",
       "            <th>Count</th>\n",
       "        </tr>\n",
       "    </thead>\n",
       "    <tbody>\n",
       "        <tr>\n",
       "            <td>2000</td>\n",
       "        </tr>\n",
       "    </tbody>\n",
       "</table>"
      ],
      "text/plain": [
       "+-------+\n",
       "| Count |\n",
       "+-------+\n",
       "|  2000 |\n",
       "+-------+"
      ]
     },
     "execution_count": 37,
     "metadata": {},
     "output_type": "execute_result"
    }
   ],
   "source": [
    "%%sql\n",
    "CREATE OR REPLACE TABLE cities AS\n",
    "SELECT cities.*, kontur_population.kontur_population AS kontur_population\n",
    "FROM cities\n",
    "JOIN (\n",
    "  SELECT cities.efua_id, SUM(h3_efua_pop.population) AS kontur_population\n",
    "  FROM cities\n",
    "  JOIN h3_efua_pop ON cities.efua_id = h3_efua_pop.efua_id\n",
    "  GROUP BY cities.efua_id\n",
    ") AS kontur_population\n",
    "ON cities.efua_id = kontur_population.efua_id;"
   ]
  },
  {
   "cell_type": "code",
   "execution_count": 43,
   "metadata": {
    "vscode": {
     "languageId": "sql"
    }
   },
   "outputs": [
    {
     "data": {
      "text/html": [
       "<span style=\"None\">Running query in &#x27;duckdb&#x27;</span>"
      ],
      "text/plain": [
       "Running query in 'duckdb'"
      ]
     },
     "metadata": {},
     "output_type": "display_data"
    },
    {
     "data": {
      "text/html": [
       "<table>\n",
       "    <thead>\n",
       "        <tr>\n",
       "            <th>efua_id</th>\n",
       "            <th>name</th>\n",
       "            <th>cnt_iso</th>\n",
       "            <th>fua_pop</th>\n",
       "            <th>kontur_pop</th>\n",
       "        </tr>\n",
       "    </thead>\n",
       "    <tbody>\n",
       "        <tr>\n",
       "            <td>10181</td>\n",
       "            <td>Yiwu</td>\n",
       "            <td>['CHN']</td>\n",
       "            <td>1706311</td>\n",
       "            <td>1790056</td>\n",
       "        </tr>\n",
       "        <tr>\n",
       "            <td>10078</td>\n",
       "            <td>Hangzhou</td>\n",
       "            <td>['CHN']</td>\n",
       "            <td>9581084</td>\n",
       "            <td>8966182</td>\n",
       "        </tr>\n",
       "        <tr>\n",
       "            <td>9667</td>\n",
       "            <td>Ji'an</td>\n",
       "            <td>['CHN']</td>\n",
       "            <td>435431</td>\n",
       "            <td>443573</td>\n",
       "        </tr>\n",
       "        <tr>\n",
       "            <td>8043</td>\n",
       "            <td>Handan</td>\n",
       "            <td>['CHN']</td>\n",
       "            <td>1698252</td>\n",
       "            <td>2445124</td>\n",
       "        </tr>\n",
       "        <tr>\n",
       "            <td>8798</td>\n",
       "            <td>Damoh</td>\n",
       "            <td>['IND']</td>\n",
       "            <td>384318</td>\n",
       "            <td>167063</td>\n",
       "        </tr>\n",
       "    </tbody>\n",
       "</table>"
      ],
      "text/plain": [
       "+---------+----------+---------+---------+------------+\n",
       "| efua_id |   name   | cnt_iso | fua_pop | kontur_pop |\n",
       "+---------+----------+---------+---------+------------+\n",
       "|  10181  |   Yiwu   | ['CHN'] | 1706311 |  1790056   |\n",
       "|  10078  | Hangzhou | ['CHN'] | 9581084 |  8966182   |\n",
       "|   9667  |  Ji'an   | ['CHN'] |  435431 |   443573   |\n",
       "|   8043  |  Handan  | ['CHN'] | 1698252 |  2445124   |\n",
       "|   8798  |  Damoh   | ['IND'] |  384318 |   167063   |\n",
       "+---------+----------+---------+---------+------------+"
      ]
     },
     "execution_count": 43,
     "metadata": {},
     "output_type": "execute_result"
    }
   ],
   "source": [
    "%%sql\n",
    "SELECT \n",
    "  efua_id,\n",
    "  name,\n",
    "  cnt_iso,\n",
    "  CAST(fua_pop AS INTEGER) as fua_pop,\n",
    "  CAST(kontur_population AS INTEGER) as kontur_pop\n",
    "FROM cities LIMIT 5;"
   ]
  },
  {
   "cell_type": "code",
   "execution_count": 45,
   "metadata": {},
   "outputs": [
    {
     "data": {
      "text/html": [
       "<span style=\"None\">Running query in &#x27;duckdb&#x27;</span>"
      ],
      "text/plain": [
       "Running query in 'duckdb'"
      ]
     },
     "metadata": {},
     "output_type": "display_data"
    },
    {
     "data": {
      "text/html": [
       "<table>\n",
       "    <thead>\n",
       "        <tr>\n",
       "            <th>Count</th>\n",
       "        </tr>\n",
       "    </thead>\n",
       "    <tbody>\n",
       "        <tr>\n",
       "            <td>3086206</td>\n",
       "        </tr>\n",
       "    </tbody>\n",
       "</table>"
      ],
      "text/plain": [
       "+---------+\n",
       "|  Count  |\n",
       "+---------+\n",
       "| 3086206 |\n",
       "+---------+"
      ]
     },
     "execution_count": 45,
     "metadata": {},
     "output_type": "execute_result"
    }
   ],
   "source": [
    "%%sql\n",
    "COPY (\n",
    "  SELECT \n",
    "    efua_id,\n",
    "    name,\n",
    "    cnt_iso,\n",
    "    CAST(fua_pop AS INTEGER) as fua_pop,\n",
    "    CAST(kontur_population AS INTEGER) as kontur_pop\n",
    "  FROM cities\n",
    ") TO 'cities.csv' (HEADER, DELIMITER ',');\n",
    "COPY (\n",
    "  SELECT\n",
    "    h3,\n",
    "    efua_id,\n",
    "    CAST(population AS INTEGER) as population\n",
    "  FROM h3_efua_pop\n",
    ") TO 'cities_h3_pop.csv' (HEADER, DELIMITER ',');"
   ]
  },
  {
   "cell_type": "code",
   "execution_count": null,
   "metadata": {},
   "outputs": [],
   "source": []
  }
 ],
 "metadata": {
  "kernelspec": {
   "display_name": "dbt-urbanized",
   "language": "python",
   "name": "python3"
  },
  "language_info": {
   "codemirror_mode": {
    "name": "ipython",
    "version": 3
   },
   "file_extension": ".py",
   "mimetype": "text/x-python",
   "name": "python",
   "nbconvert_exporter": "python",
   "pygments_lexer": "ipython3",
   "version": "3.12.4"
  }
 },
 "nbformat": 4,
 "nbformat_minor": 2
}
